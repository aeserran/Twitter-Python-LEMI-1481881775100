{
 "cells": [
  {
   "cell_type": "markdown",
   "metadata": {},
   "source": [
    "# Retrieve Persoanlity Insights From Watson Personality Insights Service"
   ]
  },
  {
   "cell_type": "code",
   "execution_count": null,
   "metadata": {
    "collapsed": true
   },
   "outputs": [],
   "source": [
    "import requests, json"
   ]
  },
  {
   "cell_type": "code",
   "execution_count": null,
   "metadata": {
    "collapsed": true
   },
   "outputs": [],
   "source": [
    "PERS_INS_API_USERNAME = \"REPLACE_PERSONALITY_INSIGHTS_SERVICE_API_USERNAME\""
   ]
  },
  {
   "cell_type": "code",
   "execution_count": null,
   "metadata": {
    "collapsed": true
   },
   "outputs": [],
   "source": [
    "PERS_INS_API_PASSWORD = \"REPLACE_PERSONALITY_INSIGHTS_SERVICE_API_PASSWORD\""
   ]
  },
  {
   "cell_type": "code",
   "execution_count": null,
   "metadata": {
    "collapsed": true
   },
   "outputs": [],
   "source": [
    "PERS_INS_URL = \"https://gateway.watsonplatform.net/personality-insights/api\""
   ]
  },
  {
   "cell_type": "code",
   "execution_count": null,
   "metadata": {
    "collapsed": true
   },
   "outputs": [],
   "source": [
    "PERS_INS_API_PATH = \"/v2/profile\""
   ]
  },
  {
   "cell_type": "code",
   "execution_count": null,
   "metadata": {
    "collapsed": false
   },
   "outputs": [],
   "source": [
    "tweets = [{'forward': False, 'charset': 'UTF-8', 'id': 'tag:search.twitter.com,2005:649619466012241920', 'language': 'en-us', 'contenttype': 'text/plain', 'reply': False, 'content': 'RT @IBMBluemix: Introducing #Bluemix Local &amp; a new approach to cloud services in the data center.   https://t.co/ljuTeLb3JL http://t.co/NG8Mm95Fom', 'userid': 'id:twitter.com:58884141', 'parentid': '', 'created': '', 'updated': ''}, {'forward': False, 'charset': 'UTF-8', 'id': 'tag:search.twitter.com,2005:454702119921401857', 'language': 'en-us', 'contenttype': 'text/plain', 'reply': False, 'content': 'Distributed #R http://t.co/o8a40QVkAN', 'userid': 'id:twitter.com:58884141', 'parentid': '', 'created': '', 'updated': ''}, {'forward': False, 'charset': 'UTF-8', 'id': 'tag:search.twitter.com,2005:585639271828172800', 'language': 'en-us', 'contenttype': 'text/plain', 'reply': False, 'content': 'Both serve a similar purpose, but with different designs. L: Samsung Blue Ray player, R: Apple TV remote http://t.co/hpEma7B38O', 'userid': 'id:twitter.com:58884141', 'parentid': '', 'created': '', 'updated': ''}, {'forward': False, 'charset': 'UTF-8', 'id': 'tag:search.twitter.com,2005:681873546335924224', 'language': 'en-us', 'contenttype': 'text/plain', 'reply': False, 'content': \"RT @jaykreps: It is common wisdom that first line eng. mgrs shouldn't write code. It's super useful if they read code, though--no one mentions that.\", 'userid': 'id:twitter.com:58884141', 'parentid': '', 'created': '', 'updated': ''}, {'forward': False, 'charset': 'UTF-8', 'id': 'tag:search.twitter.com,2005:457627325669343232', 'language': 'en-us', 'contenttype': 'text/plain', 'reply': False, 'content': 'RT @gormen_lazim: Kendi resmini çizen ressamı çizen ressam.. http://t.co/XSpaCtNnWR', 'userid': 'id:twitter.com:58884141', 'parentid': '', 'created': '', 'updated': ''}, {'forward': False, 'charset': 'UTF-8', 'id': 'tag:search.twitter.com,2005:470236731854168064', 'language': 'en-us', 'contenttype': 'text/plain', 'reply': False, 'content': 'Best skills of Ronaldinho in flipbook: http://t.co/c0oD9iu1C7 via @YouTube', 'userid': 'id:twitter.com:58884141', 'parentid': '', 'created': '', 'updated': ''}, {'forward': False, 'charset': 'UTF-8', 'id': 'tag:search.twitter.com,2005:700149074696282112', 'language': 'en-us', 'contenttype': 'text/plain', 'reply': False, 'content': 'RT @benhamner: Best AI system scored ~60% on a 8th grade science test in a @kaggle competition https://t.co/GukKkxLgIx', 'userid': 'id:twitter.com:58884141', 'parentid': '', 'created': '', 'updated': ''}, {'forward': False, 'charset': 'UTF-8', 'id': 'tag:search.twitter.com,2005:532236597623005185', 'language': 'en-us', 'contenttype': 'text/plain', 'reply': False, 'content': 'IBM offers start-ups perks to use its cloud http://t.co/Hsblwxq9Qd', 'userid': 'id:twitter.com:58884141', 'parentid': '', 'created': '', 'updated': ''}, {'forward': False, 'charset': 'UTF-8', 'id': 'tag:search.twitter.com,2005:648529230087634944', 'language': 'en-us', 'contenttype': 'text/plain', 'reply': False, 'content': \"Android's 2-hour full refund for apps is a great way to try out apps &lt;3 Does iOS has a similar thing?\", 'userid': 'id:twitter.com:58884141', 'parentid': '', 'created': '', 'updated': ''}, {'forward': False, 'charset': 'UTF-8', 'id': 'tag:search.twitter.com,2005:648323127043342336', 'language': 'en-us', 'contenttype': 'text/plain', 'reply': False, 'content': 'Now blood moon http://t.co/lLofLirw9c', 'userid': 'id:twitter.com:58884141', 'parentid': '', 'created': '', 'updated': ''}, {'forward': False, 'charset': 'UTF-8', 'id': 'tag:search.twitter.com,2005:501782602244567042', 'language': 'en-us', 'contenttype': 'text/plain', 'reply': False, 'content': 'Fadel Adib | Innovators Under 35 http://t.co/5A3CuyoT61 &gt;@TechReview', 'userid': 'id:twitter.com:58884141', 'parentid': '', 'created': '', 'updated': ''}, {'forward': False, 'charset': 'UTF-8', 'id': 'tag:search.twitter.com,2005:522387647449165824', 'language': 'en-us', 'contenttype': 'text/plain', 'reply': False, 'content': \"IBM Scores Another Win Over Amazon's Cloud Thanks To SAP http://t.co/A96whpTLOW via @bi_enterprise\", 'userid': 'id:twitter.com:58884141', 'parentid': '', 'created': '', 'updated': ''}, {'forward': False, 'charset': 'UTF-8', 'id': 'tag:search.twitter.com,2005:677522320836198400', 'language': 'en-us', 'contenttype': 'text/plain', 'reply': False, 'content': 'Turkish Internet hit with massive DDoS attack https://t.co/5RTaNlYan2 via @dailydot', 'userid': 'id:twitter.com:58884141', 'parentid': '', 'created': '', 'updated': ''}, {'forward': False, 'charset': 'UTF-8', 'id': 'tag:search.twitter.com,2005:457908621293006848', 'language': 'en-us', 'contenttype': 'text/plain', 'reply': False, 'content': 'What! MT: Just how long would you have to pee to poison Portland’s reservoir? By @laurahelmuth http://t.co/KCSUMj6KWB via @slate', 'userid': 'id:twitter.com:58884141', 'parentid': '', 'created': '', 'updated': ''}, {'forward': False, 'charset': 'UTF-8', 'id': 'tag:search.twitter.com,2005:522075225916444672', 'language': 'en-us', 'contenttype': 'text/plain', 'reply': False, 'content': \"Everyone is blaming MS for closing Silicon Valley Lab,but everyone also forgets that it all started with Google's so called hybrid (!) model\", 'userid': 'id:twitter.com:58884141', 'parentid': '', 'created': '', 'updated': ''}, {'forward': False, 'charset': 'UTF-8', 'id': 'tag:search.twitter.com,2005:523642061464289280', 'language': 'en-us', 'contenttype': 'text/plain', 'reply': False, 'content': 'RT @StevenLevy: ICMYI;  How the founder of Google Scholar was seduced by the mission of the service he created. https://t.co/AJLha21aNI', 'userid': 'id:twitter.com:58884141', 'parentid': '', 'created': '', 'updated': ''}, {'forward': False, 'charset': 'UTF-8', 'id': 'tag:search.twitter.com,2005:451429694572085248', 'language': 'en-us', 'contenttype': 'text/plain', 'reply': False, 'content': \"RT @AmandaWills: Huge. NASA is suspending relations with Russia's space agency. NASA told me they will release a statement soon. http://t.co/2gMXqJgFKP\", 'userid': 'id:twitter.com:58884141', 'parentid': '', 'created': '', 'updated': ''}, {'forward': False, 'charset': 'UTF-8', 'id': 'tag:search.twitter.com,2005:458696213039030272', 'language': 'en-us', 'contenttype': 'text/plain', 'reply': False, 'content': 'Ask these four interview questions: http://t.co/ubtXtHxegT \"and get the email saying you\\'re not selected\" :-)', 'userid': 'id:twitter.com:58884141', 'parentid': '', 'created': '', 'updated': ''}, {'forward': False, 'charset': 'UTF-8', 'id': 'tag:search.twitter.com,2005:522033550971768834', 'language': 'en-us', 'contenttype': 'text/plain', 'reply': False, 'content': 'Wow, who would have thought this? @muratdemirbas? \"French Bank to Allow Sending Money With Tweets\" http://t.co/dBUcTNw0Bv via @nytimesbits', 'userid': 'id:twitter.com:58884141', 'parentid': '', 'created': '', 'updated': ''}, {'forward': False, 'charset': 'UTF-8', 'id': 'tag:search.twitter.com,2005:630824068388798464', 'language': 'en-us', 'contenttype': 'text/plain', 'reply': False, 'content': 'RT @random_walker: Remember we thought the web would enable massive scientific collaboration? Seems to be happening, just took a while. http://t.co/0weCsFZLkX', 'userid': 'id:twitter.com:58884141', 'parentid': '', 'created': '', 'updated': ''}]"
   ]
  },
  {
   "cell_type": "code",
   "execution_count": null,
   "metadata": {
    "collapsed": true
   },
   "outputs": [],
   "source": [
    "contentItems = json.dumps({\"contentItems\": tweets})"
   ]
  },
  {
   "cell_type": "code",
   "execution_count": null,
   "metadata": {
    "collapsed": true
   },
   "outputs": [],
   "source": [
    "headers = {'content-type': 'application/json'}"
   ]
  },
  {
   "cell_type": "code",
   "execution_count": null,
   "metadata": {
    "collapsed": false
   },
   "outputs": [],
   "source": [
    "response = requests.post(PERS_INS_URL + PERS_INS_API_PATH, headers=headers, data=contentItems, auth=(PERS_INS_API_USERNAME, PERS_INS_API_PASSWORD))"
   ]
  },
  {
   "cell_type": "code",
   "execution_count": null,
   "metadata": {
    "collapsed": false
   },
   "outputs": [],
   "source": [
    "print(response.text)"
   ]
  }
 ],
 "metadata": {
  "kernelspec": {
   "display_name": "Python 3",
   "language": "python",
   "name": "python3"
  },
  "language_info": {
   "codemirror_mode": {
    "name": "ipython",
    "version": 3
   },
   "file_extension": ".py",
   "mimetype": "text/x-python",
   "name": "python",
   "nbconvert_exporter": "python",
   "pygments_lexer": "ipython3",
   "version": "3.5.1"
  }
 },
 "nbformat": 4,
 "nbformat_minor": 0
}
